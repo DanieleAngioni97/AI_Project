{
  "nbformat": 4,
  "nbformat_minor": 0,
  "metadata": {
    "colab": {
      "name": "Adversarial_Cifar10.ipynb",
      "provenance": [],
      "collapsed_sections": [],
      "toc_visible": true,
      "include_colab_link": true
    },
    "kernelspec": {
      "name": "python3",
      "display_name": "Python 3"
    },
    "accelerator": "GPU"
  },
  "cells": [
    {
      "cell_type": "markdown",
      "metadata": {
        "id": "view-in-github",
        "colab_type": "text"
      },
      "source": [
        "<a href=\"https://colab.research.google.com/github/DanieleAngioni97/AI_Project/blob/main/notebook/Adversarial_Cifar10.ipynb\" target=\"_parent\"><img src=\"https://colab.research.google.com/assets/colab-badge.svg\" alt=\"Open In Colab\"/></a>"
      ]
    },
    {
      "cell_type": "code",
      "metadata": {
        "colab": {
          "base_uri": "https://localhost:8080/"
        },
        "id": "gprak1rdFmrP",
        "outputId": "85595ee4-eab1-480b-e58d-2458691769bc"
      },
      "source": [
        "from google.colab import drive\n",
        "drive.mount('/content/drive')"
      ],
      "execution_count": 1,
      "outputs": [
        {
          "output_type": "stream",
          "text": [
            "Mounted at /content/drive\n"
          ],
          "name": "stdout"
        }
      ]
    },
    {
      "cell_type": "markdown",
      "metadata": {
        "id": "273weHLpb_AK"
      },
      "source": [
        "# **Install the SecML library**"
      ]
    },
    {
      "cell_type": "code",
      "metadata": {
        "id": "WZ1JnZwgbkeV"
      },
      "source": [
        "!pip3 install secml"
      ],
      "execution_count": null,
      "outputs": []
    },
    {
      "cell_type": "markdown",
      "metadata": {
        "id": "mfbkwOTXdMGH"
      },
      "source": [
        "# **Imports, constants and utility functions**"
      ]
    },
    {
      "cell_type": "code",
      "metadata": {
        "id": "8Kh_f6VQVnYa"
      },
      "source": [
        "# basics\n",
        "import numpy as np\n",
        "import random\n",
        "import matplotlib.pyplot as plt\n",
        "\n",
        "%matplotlib inline\n",
        "\n",
        "# PyTorch\n",
        "import torch \n",
        "import torchvision\n",
        "import torchvision.transforms as transforms\n",
        "\n",
        "\n",
        "# SecML\n",
        "from secml.core import CCreator\n",
        "from secml.array import CArray\n",
        "from secml.data.loader.c_dataloader_cifar import CDataLoaderCIFAR10\n",
        "from secml.figure import CFigure\n",
        "from secml.ml.features.normalization.c_normalizer_dnn import CNormalizerDNN\n",
        "\n",
        "from secml.adv.attacks import CAttackEvasionPGDLS\n",
        "from secml.adv.seceval import CSecEval\n",
        "\n",
        "# todo: SPOSTARE LE DEF DEI MODELLI QUI SOPRA\n",
        "\n",
        "# FOLDERS\n",
        "CIFAR10_DATASET_PATH = '/content/drive/MyDrive/Colab_Notebooks/iCubeProject/saved_objects/datasets/CIFAR10_dataset'\n",
        "MODELS_PATH = '/content/drive/MyDrive/Colab_Notebooks/iCubeProject/models/'\n",
        "ATTACKS_PATH = '/content/drive/MyDrive/Colab_Notebooks/iCubeProject/saved_objects/attacks/'\n",
        "SECEVALS_PATH = '/content/drive/MyDrive/Colab_Notebooks/iCubeProject/saved_objects/sec_evals/'\n",
        "\n",
        "# MODELS\n",
        "CIFAR_AUTOENCODER_SECML = 'CifarAutoencoder_secml.gz'\n",
        "CIFAR_AUTOENCODER_TORCH = 'CifarPreTr.pkl'\n",
        "\n",
        "CIFAR_CLF_SECML = \"CIFAR10_model_secml.gz\"\n",
        "CIFAR_CLF_FINETUNED_SECML = \"CIFAR10_model_finetuned_secml.gz\"\n",
        "\n",
        "CIFAR_CLF_TORCH = \"CIFAR10_model_torch.gz\"\n",
        "\n",
        "# SECEVAL DATA\n",
        "SECEVAL_DATA_CLF = 'secevaldata_clf.gz'\n",
        "SECEVAL_DATA_CLF_AE = 'secevaldata_clf_ae.gz'\n",
        "SECEVAL_DATA_CLF_AE_FTUNED = 'secevaldata_clf_ae_ftuned.gz'\n",
        "\n",
        "SECEVAL_DATA_CLF_100 = 'secevaldata_clf_100samples.gz'\n",
        "SECEVAL_DATA_CLF_AE_100 = 'secevaldata_clf_ae_100samples.gz'\n",
        "SECEVAL_DATA_CLF_AE_FTUNED_100 = 'secevaldata_clf_ae_ftuned_100samples.gz'\n",
        "\n",
        "\n",
        "device = torch.device('cuda:0' if torch.cuda.is_available() else 'cpu')\n",
        "\n",
        "def set_seed(random_seed=0):\n",
        "    np.random.seed(random_seed)\n",
        "    torch.manual_seed(random_seed)\n",
        "    random.seed(random_seed)\n",
        "    torch.cuda.manual_seed(random_seed)\n",
        "\n",
        "def imshow(img):\n",
        "    img = (img)# / 2 + 0.5)    # unnormalize\n",
        "    npimg = img.numpy()\n",
        "    plt.imshow(np.transpose(npimg, (1, 2, 0)))\n",
        "    plt.axis('off')\n",
        "    plt.show()\n",
        "\n",
        "def stack_models(root=MODELS_PATH, \n",
        "                 ae_fname=CIFAR_AUTOENCODER_SECML, \n",
        "                 clf_fname=CIFAR_CLF_FINETUNED_SECML):\n",
        "    if ae_fname is not None:\n",
        "        ae_preprocess = CCreator().load(path=root + ae_fname)\n",
        "        ae_preprocess = CNormalizerDNN(ae_preprocess)\n",
        "    cifar_clf_stacked = CCreator().load(path=root + clf_fname)\n",
        "\n",
        "    if ae_fname is not None:\n",
        "        cifar_clf_stacked.preprocess.preprocess = ae_preprocess\n",
        "\n",
        "    return cifar_clf_stacked\n",
        "\n",
        "random_state = 49\n",
        "set_seed(random_state)"
      ],
      "execution_count": 7,
      "outputs": []
    },
    {
      "cell_type": "markdown",
      "metadata": {
        "id": "M-3BzFFvdYex"
      },
      "source": [
        "# **Load the pretrained ConvNet**"
      ]
    },
    {
      "cell_type": "markdown",
      "metadata": {
        "id": "joui1UILc3n2"
      },
      "source": [
        "## Classifier definition"
      ]
    },
    {
      "cell_type": "code",
      "metadata": {
        "id": "MAgaxfJzWl9L"
      },
      "source": [
        "import torch.nn as nn\n",
        "import torch.utils.model_zoo as model_zoo\n",
        "from collections import OrderedDict\n",
        "\n",
        "\n",
        "class CIFAR(nn.Module):\n",
        "    def __init__(self, features, n_channel, num_classes):\n",
        "        super(CIFAR, self).__init__()\n",
        "        assert isinstance(features, nn.Sequential), type(features)\n",
        "        self.features = features\n",
        "        self.classifier = nn.Sequential(\n",
        "            nn.Linear(n_channel, num_classes)\n",
        "        )\n",
        "        # print(self.features)\n",
        "        # print(self.classifier)\n",
        "\n",
        "    def forward(self, x):\n",
        "        x = self.features(x)\n",
        "        x = x.view(x.size(0), -1)\n",
        "        x = self.classifier(x)\n",
        "        return x\n",
        "\n",
        "# def make_layers(cfg, batch_norm=False):\n",
        "#     layers = []\n",
        "#     in_channels = 3\n",
        "#     for i, v in enumerate(cfg):\n",
        "#         if v == 'M':\n",
        "#             layers += [nn.MaxPool2d(kernel_size=2, stride=2)]\n",
        "#         else:\n",
        "#             padding = v[1] if isinstance(v, tuple) else 1\n",
        "#             out_channels = v[0] if isinstance(v, tuple) else v\n",
        "#             conv2d = nn.Conv2d(in_channels, out_channels, kernel_size=3, padding=padding)\n",
        "#             if batch_norm:\n",
        "#                 layers += [conv2d, nn.BatchNorm2d(out_channels, affine=False), nn.ReLU()]\n",
        "#             else:\n",
        "#                 layers += [conv2d, nn.ReLU()]\n",
        "#             in_channels = out_channels\n",
        "#     return nn.Sequential(*layers)\n",
        "\n",
        "# def cifar10(n_channel=128, pretrained=None):\n",
        "#     cfg = [n_channel, n_channel, 'M', 2*n_channel, 2*n_channel,\n",
        "#            'M', 4*n_channel, 4*n_channel, 'M', (8*n_channel, 0), 'M']\n",
        "#     layers = make_layers(cfg, batch_norm=True)\n",
        "#     model = CIFAR(layers, n_channel=8*n_channel, num_classes=10)\n",
        "#     if pretrained is not None:\n",
        "#         m = model_zoo.load_url(\n",
        "#             'http://ml.cs.tsinghua.edu.cn/~chenxi/pytorch-models/cifar10-d875770b.pth')\n",
        "#         state_dict = m.state_dict() if isinstance(m, nn.Module) else m\n",
        "#         assert isinstance(state_dict, (dict, OrderedDict)), type(state_dict)\n",
        "#         model.load_state_dict(state_dict)\n",
        "#     return model\n"
      ],
      "execution_count": 4,
      "outputs": []
    },
    {
      "cell_type": "code",
      "metadata": {
        "colab": {
          "base_uri": "https://localhost:8080/"
        },
        "id": "c8o8oIIDSZan",
        "outputId": "213f6b8a-ebad-4488-9a2c-efb46ef5d94c"
      },
      "source": [
        "deep_net = torch.load(MODELS_PATH + CIFAR_CLF_TORCH).to(device)\n",
        "\n",
        "correct = 0\n",
        "total = 0\n",
        "\n",
        "batch_size = 128\n",
        "\n",
        "transform = transforms.Compose(\n",
        "    [transforms.ToTensor(),\n",
        "    transforms.Normalize((0.5, 0.5, 0.5), (0.5, 0.5, 0.5))])\n",
        "\n",
        "testset = torchvision.datasets.CIFAR10(\n",
        "    root=CIFAR10_DATASET_PATH, \n",
        "    train=False,\n",
        "    download=True, transform=transform)\n",
        "\n",
        "testloader = torch.utils.data.DataLoader(testset, batch_size=batch_size,\n",
        "                                          shuffle=False, num_workers=2)\n",
        "\n",
        "# evaluate torch model\n",
        "deep_net.eval()\n",
        "with torch.no_grad():\n",
        "    for images, labels in testloader:\n",
        "        images = images.to(device)\n",
        "        labels = labels.to(device)\n",
        "        outputs = deep_net(images)\n",
        "        _, predicted = torch.max(outputs.data, 1)\n",
        "        total += labels.size(0)\n",
        "        correct += (predicted == labels).sum().item()\n",
        "\n",
        "print('Accuracy of the network on the 10000 test images: {} %'.format(\n",
        "    100 * correct / total))"
      ],
      "execution_count": null,
      "outputs": [
        {
          "output_type": "execute_result",
          "data": {
            "text/plain": [
              "torch.Size([16, 3, 32, 32])"
            ]
          },
          "metadata": {
            "tags": []
          },
          "execution_count": 21
        }
      ]
    },
    {
      "cell_type": "code",
      "metadata": {
        "colab": {
          "base_uri": "https://localhost:8080/",
          "height": 35
        },
        "id": "iMUa2rGbGUVE",
        "outputId": "37c3ba65-6a86-4aa3-f041-eca23f30f694"
      },
      "source": [
        "from secml.ml.features.normalization import CNormalizerMeanStd\n",
        "\n",
        "# loss and optimizer\n",
        "criterion = nn.CrossEntropyLoss()\n",
        "optimizer = torch.optim.Adam(deep_net.parameters(), lr=0.001)\n",
        "\n",
        "transform = CNormalizerMeanStd(mean=(0.5,0.5,0.5), \n",
        "                              std=(0.5,0.5,0.5), \n",
        "                              with_std=True)\n",
        "\n",
        "\n",
        "# wrap in secml the torch model\n",
        "from secml.ml.classifiers import CClassifierPyTorch\n",
        "clf = CClassifierPyTorch(model=deep_net,\n",
        "                         loss=criterion,\n",
        "                         optimizer=optimizer,\n",
        "                         preprocess = transform,\n",
        "                         pretrained=True,\n",
        "                         epochs=100,\n",
        "                         batch_size=64,\n",
        "                         input_shape=(3, 32, 32),\n",
        "                         random_state=0)\n",
        "\n",
        "# label_torch = clf.predict(ts.X, return_decision_function=False)\n",
        "\n",
        "# # evaluate the wrapped model\n",
        "# from secml.ml.peval.metrics import CMetric\n",
        "# metric = CMetric.create('accuracy')\n",
        "# acc_torch = metric.performance_score(ts.Y, label_torch)\n",
        "\n",
        "# print(\"Model Accuracy: {}%\".format(acc_torch*100))\n",
        "\n",
        "clf.save(path=MODELS_PATH + CIFAR_CLF_SECML)"
      ],
      "execution_count": null,
      "outputs": [
        {
          "output_type": "execute_result",
          "data": {
            "application/vnd.google.colaboratory.intrinsic+json": {
              "type": "string"
            },
            "text/plain": [
              "'/content/drive/MyDrive/Colab_Notebooks/iCubeProject/models/CIFAR10_model_secml.gz'"
            ]
          },
          "metadata": {
            "tags": []
          },
          "execution_count": 8
        }
      ]
    },
    {
      "cell_type": "code",
      "metadata": {
        "colab": {
          "base_uri": "https://localhost:8080/"
        },
        "id": "vn2D-SAqHOi1",
        "outputId": "987aad13-baa9-4746-d513-319c8d228454"
      },
      "source": [
        "# load and reavaluate only using secml\n",
        "loader = CDataLoaderCIFAR10()\n",
        "tr , ts = loader.load()\n",
        "\n",
        "# Normalize the data\n",
        "tr.X /= 255\n",
        "ts.X /= 255\n",
        "\n",
        "cifar_clf = CCreator().load(path=MODELS_PATH + CIFAR_CLF_SECML)\n",
        "\n",
        "y_pred = cifar_clf.predict(ts.X, return_decision_function=False)\n",
        "\n",
        "from secml.ml.peval.metrics import CMetric\n",
        "metric = CMetric.create('accuracy')\n",
        "acc = metric.performance_score(ts.Y, y_pred)\n",
        "\n",
        "print(\"Model Accuracy: {}%\".format(acc*100))"
      ],
      "execution_count": 12,
      "outputs": [
        {
          "output_type": "stream",
          "text": [
            "Downloading from `https://www.cs.toronto.edu/~kriz/cifar-10-python.tar.gz` (170498071 bytes)\n",
            "\n",
            "File stored in `/root/secml-data/datasets/cifar/cifar-10-python.tar.gz`\n"
          ],
          "name": "stdout"
        }
      ]
    },
    {
      "cell_type": "markdown",
      "metadata": {
        "id": "egZevtz7KjGg"
      },
      "source": [
        "# **Load the pretrained autoencoder**"
      ]
    },
    {
      "cell_type": "markdown",
      "metadata": {
        "id": "5DgexPDQc-dT"
      },
      "source": [
        "## Autoencoder definition"
      ]
    },
    {
      "cell_type": "code",
      "metadata": {
        "id": "YkYu8frNj-3_"
      },
      "source": [
        "class CifarAutoencoder(nn.Module):\n",
        "    def __init__(self):\n",
        "        super(CifarAutoencoder, self).__init__()\n",
        "        # Input size: [batch, 3, 32, 32]\n",
        "        # Output size: [batch, 3, 32, 32]\n",
        "        self.encoder = nn.Sequential(\n",
        "            nn.Conv2d(3, 12, 4, stride=2, padding=1),            # [batch, 12, 16, 16]\n",
        "            nn.ReLU(),\n",
        "            nn.Conv2d(12, 24, 4, stride=2, padding=1),           # [batch, 24, 8, 8]\n",
        "            nn.ReLU(),\n",
        "\t\t\tnn.Conv2d(24, 48, 4, stride=2, padding=1),           # [batch, 48, 4, 4]\n",
        "            nn.ReLU(),\n",
        "        )\n",
        "        self.decoder = nn.Sequential(\n",
        "\t\t\tnn.ConvTranspose2d(48, 24, 4, stride=2, padding=1),  # [batch, 24, 8, 8]\n",
        "            nn.ReLU(),\n",
        "\t\t\tnn.ConvTranspose2d(24, 12, 4, stride=2, padding=1),  # [batch, 12, 16, 16]\n",
        "            nn.ReLU(),\n",
        "            nn.ConvTranspose2d(12, 3, 4, stride=2, padding=1),   # [batch, 3, 32, 32]\n",
        "            nn.Sigmoid(),\n",
        "        )\n",
        "    \n",
        "    def forward(self, x):\n",
        "        encoded = self.encoder(x)\n",
        "        decoded = self.decoder(encoded)\n",
        "        return decoded"
      ],
      "execution_count": 5,
      "outputs": []
    },
    {
      "cell_type": "code",
      "metadata": {
        "id": "bSweKSy7KwOM"
      },
      "source": [
        "n_images = 16\n",
        "\n",
        "# print(\"Loading checkpoint...\")\n",
        "autoencoder = CifarAutoencoder().to(device)\n",
        "autoencoder.load_state_dict(torch.load(MODELS_PATH + CIFAR_AUTOENCODER_TORCH))\n",
        "\n",
        "autoencoder.eval()\n",
        "autoencoder_loss = nn.MSELoss()\n",
        "\n",
        "testset = torchvision.datasets.CIFAR10(root=CIFAR10_DATASET_PATH, train=False,\n",
        "                                        download=True, transform=transforms.ToTensor())\n",
        "testloader = torch.utils.data.DataLoader(testset, batch_size=n_images,\n",
        "                                            shuffle=False, num_workers=2)\n",
        "\n",
        "dataiter = iter(testloader)\n",
        "images, _ = dataiter.next()\n",
        "\n",
        "plt.figure(figsize=(20,10))\n",
        "plt.title('Input images', fontsize=20)\n",
        "imshow(torchvision.utils.make_grid(images))\n",
        "\n",
        "images = images.to(device)\n",
        "running_loss = 0.\n",
        "total_batch = 0\n",
        "correct = 0.\n",
        "total = 0\n",
        "for i, (inputs, labels) in enumerate(testloader):\n",
        "    inputs = inputs.to(device)\n",
        "    labels = labels.to(device)\n",
        "\n",
        "    # ============ Forward ============\n",
        "    outputs = autoencoder(inputs)\n",
        "    loss = autoencoder_loss(outputs, inputs)\n",
        "\n",
        "    running_loss += loss.data\n",
        "    total_batch += 1\n",
        "\n",
        "running_loss /= total_batch\n",
        "\n",
        "decoded_imgs = autoencoder(images)\n",
        "plt.figure(figsize=(20,10))\n",
        "plt.title('Reconstructed images\\n Reconstruction loss: {:.4f}'.format(running_loss),\n",
        "          fontsize=20)\n",
        "imshow(torchvision.utils.make_grid(decoded_imgs.data.cpu()))"
      ],
      "execution_count": null,
      "outputs": []
    },
    {
      "cell_type": "code",
      "metadata": {
        "colab": {
          "base_uri": "https://localhost:8080/"
        },
        "id": "8ekbUIXuOOQU",
        "outputId": "957a4f99-62b7-4982-c5a3-e550687644b8"
      },
      "source": [
        "from torch.optim import Adam\n",
        "from torch.nn import BCELoss\n",
        "from secml.array import CArray\n",
        "\n",
        "# wrap the model, including the normalizer\n",
        "ae_loss = BCELoss()\n",
        "ae_optimizer = Adam(autoencoder.parameters(), lr=1e-3)\n",
        "normalizer = None\n",
        "\n",
        "input_shape = (3, 32, 32)\n",
        "\n",
        "wrapped_autoencoder = CClassifierPyTorch(model=autoencoder,\n",
        "                                         loss=ae_loss,\n",
        "                                         optimizer=ae_optimizer,\n",
        "                                         epochs=10,\n",
        "                                         batch_size=32,\n",
        "                                         input_shape=input_shape,\n",
        "                                         softmax_outputs=False,\n",
        "                                         preprocess=normalizer,\n",
        "                                         random_state=random_state,\n",
        "                                         pretrained=True,\n",
        "                                         pretrained_classes=CArray.arange(3*32*32))\n",
        "print(\"Saving...\")\n",
        "wrapped_autoencoder.save(path=MODELS_PATH + CIFAR_AUTOENCODER_SECML)\n",
        "print(\"Saved.\")"
      ],
      "execution_count": null,
      "outputs": [
        {
          "output_type": "stream",
          "text": [
            "Saving...\n",
            "Saved.\n"
          ],
          "name": "stdout"
        }
      ]
    },
    {
      "cell_type": "code",
      "metadata": {
        "id": "0XQbdvpZP2hy",
        "colab": {
          "base_uri": "https://localhost:8080/",
          "height": 213
        },
        "outputId": "e5a4cb51-0987-4e83-8fa1-b71debb696bb"
      },
      "source": [
        "from secml.figure import CFigure\n",
        "\n",
        "i = 0\n",
        "\n",
        "autoencoder = CCreator().load(path=MODELS_PATH + CIFAR_AUTOENCODER_SECML)\n",
        "input_shape = (3, 32, 32)\n",
        "\n",
        "dataset = ts\n",
        "\n",
        "if i > dataset.num_samples:\n",
        "    i = dataset.num_samples - 1\n",
        "\n",
        "# da plottare come in make_grid\n",
        "\n",
        "fig = CFigure(width=7, height=3)\n",
        "\n",
        "original = dataset.X[i, :].tondarray().reshape(input_shape).transpose((1, 2, 0))\n",
        "\n",
        "fig.subplot(1, 2, 1)\n",
        "fig.sp.imshow(original)\n",
        "fig.sp.title(\"Original image\")\n",
        "fig.sp.xticks([])\n",
        "fig.sp.yticks([])\n",
        "\n",
        "reconstructed = autoencoder.forward(dataset.X[i, :]).tondarray().reshape(input_shape).transpose((1, 2, 0))\n",
        "\n",
        "fig.subplot(1, 2, 2)\n",
        "fig.sp.imshow(reconstructed/reconstructed.max())\n",
        "fig.sp.title(\"Reconstructed image\")\n",
        "fig.sp.xticks([])\n",
        "fig.sp.yticks([])\n",
        "fig.show()"
      ],
      "execution_count": 13,
      "outputs": [
        {
          "output_type": "display_data",
          "data": {
            "image/png": "[encoded data removed]",
            "text/plain": [
              "<Figure size 504x216 with 2 Axes>"
            ]
          },
          "metadata": {
            "tags": []
          }
        }
      ]
    },
    {
      "cell_type": "markdown",
      "metadata": {
        "id": "9Mym8kYdkIK6"
      },
      "source": [
        "# **Finetune the classifier with the autoencoder as preprocess**"
      ]
    },
    {
      "cell_type": "code",
      "metadata": {
        "id": "qML2D5LKq0mz",
        "colab": {
          "base_uri": "https://localhost:8080/"
        },
        "outputId": "8be0ed37-20fb-499c-9efd-3c5514c331e3"
      },
      "source": [
        "import torch.nn as nn\n",
        "\n",
        "batch_size = 64\n",
        "n_epochs = 10\n",
        "\n",
        "trainset = torchvision.datasets.CIFAR10(root=CIFAR10_DATASET_PATH, train=True,\n",
        "                                        download=True, transform=transforms.ToTensor())\n",
        "trainloader = torch.utils.data.DataLoader(testset, batch_size=batch_size,\n",
        "                                            shuffle=True, num_workers=2)\n",
        "n_iterations = len(trainloader)\n",
        "\n",
        "\n",
        "# Instantiate models\n",
        "autoencoder = CifarAutoencoder().to(device)\n",
        "autoencoder.load_state_dict(torch.load(MODELS_PATH + CIFAR_AUTOENCODER_TORCH))\n",
        "\n",
        "normalizer_deep_net = transforms.Normalize((0.5, 0.5, 0.5), (0.5, 0.5, 0.5))\n",
        "\n",
        "deep_net = torch.load(MODELS_PATH + CIFAR_CLF_TORCH).to(device)\n",
        "\n",
        "# Freeze autoencoder and feature extractor of the classifier\n",
        "for param in autoencoder.parameters():\n",
        "    param.requires_grad = False\n",
        "\n",
        "for param in deep_net.features.parameters():\n",
        "    param.requires_grad = False\n",
        "\n",
        "\n",
        "criterion = nn.CrossEntropyLoss()\n",
        "optimizer = torch.optim.Adam(deep_net.parameters(), lr=0.01)\n",
        "\n",
        "\n",
        "for epoch in range(n_epochs):\n",
        "    for i, (images, labels) in enumerate(trainloader):\n",
        "        images = images.to(device)\n",
        "        labels = labels.to(device)\n",
        "\n",
        "        decoded = autoencoder(images)\n",
        "        decoded_norm = normalizer_deep_net(decoded)\n",
        "        # decoded_norm = normalizer_deep_net(images)\n",
        "        output = deep_net(decoded_norm)\n",
        "        loss = criterion(output, labels)\n",
        "\n",
        "        optimizer.zero_grad()\n",
        "\n",
        "        loss.backward()\n",
        "\n",
        "        optimizer.step()\n",
        "\n",
        "        if i%50 == 0:\n",
        "            print(\"Epoch [{}/{}], Step [{},{}], loss: {}\".format(\n",
        "                epoch, n_epochs, i, n_iterations, loss.item()\n",
        "            ))\n"
      ],
      "execution_count": null,
      "outputs": [
        {
          "output_type": "stream",
          "text": [
            "Files already downloaded and verified\n",
            "Epoch [0/10], Step [0,157], loss: 0.38481569290161133\n",
            "Epoch [0/10], Step [50,157], loss: 1.3587888479232788\n",
            "Epoch [0/10], Step [100,157], loss: 1.3112926483154297\n",
            "Epoch [0/10], Step [150,157], loss: 1.2077076435089111\n",
            "Epoch [1/10], Step [0,157], loss: 0.7847427129745483\n",
            "Epoch [1/10], Step [50,157], loss: 0.5565869212150574\n",
            "Epoch [1/10], Step [100,157], loss: 0.729152262210846\n",
            "Epoch [1/10], Step [150,157], loss: 0.8519527316093445\n",
            "Epoch [2/10], Step [0,157], loss: 0.5123779773712158\n",
            "Epoch [2/10], Step [50,157], loss: 1.0496647357940674\n",
            "Epoch [2/10], Step [100,157], loss: 0.4677780568599701\n",
            "Epoch [2/10], Step [150,157], loss: 0.5168585181236267\n",
            "Epoch [3/10], Step [0,157], loss: 1.0039013624191284\n",
            "Epoch [3/10], Step [50,157], loss: 0.5314211249351501\n",
            "Epoch [3/10], Step [100,157], loss: 0.8785353899002075\n",
            "Epoch [3/10], Step [150,157], loss: 0.2612050175666809\n",
            "Epoch [4/10], Step [0,157], loss: 0.297313392162323\n",
            "Epoch [4/10], Step [50,157], loss: 0.3201209306716919\n",
            "Epoch [4/10], Step [100,157], loss: 0.5214259624481201\n",
            "Epoch [4/10], Step [150,157], loss: 0.564104437828064\n",
            "Epoch [5/10], Step [0,157], loss: 0.22256416082382202\n",
            "Epoch [5/10], Step [50,157], loss: 0.3647072911262512\n",
            "Epoch [5/10], Step [100,157], loss: 0.43848565220832825\n",
            "Epoch [5/10], Step [150,157], loss: 0.6170841455459595\n",
            "Epoch [6/10], Step [0,157], loss: 0.3418976366519928\n",
            "Epoch [6/10], Step [50,157], loss: 0.17504063248634338\n",
            "Epoch [6/10], Step [100,157], loss: 0.6571677923202515\n",
            "Epoch [6/10], Step [150,157], loss: 0.6308764219284058\n",
            "Epoch [7/10], Step [0,157], loss: 0.22092631459236145\n",
            "Epoch [7/10], Step [50,157], loss: 0.3723210096359253\n",
            "Epoch [7/10], Step [100,157], loss: 0.46188777685165405\n",
            "Epoch [7/10], Step [150,157], loss: 0.28698307275772095\n",
            "Epoch [8/10], Step [0,157], loss: 0.5079622268676758\n",
            "Epoch [8/10], Step [50,157], loss: 0.39033010601997375\n",
            "Epoch [8/10], Step [100,157], loss: 0.12531156837940216\n",
            "Epoch [8/10], Step [150,157], loss: 0.17368541657924652\n",
            "Epoch [9/10], Step [0,157], loss: 0.41519421339035034\n",
            "Epoch [9/10], Step [50,157], loss: 0.12956003844738007\n",
            "Epoch [9/10], Step [100,157], loss: 0.17213252186775208\n",
            "Epoch [9/10], Step [150,157], loss: 0.5353519916534424\n"
          ],
          "name": "stdout"
        }
      ]
    },
    {
      "cell_type": "code",
      "metadata": {
        "colab": {
          "base_uri": "https://localhost:8080/"
        },
        "id": "ikrqgJt_F2Lb",
        "outputId": "1725f756-2a0a-4c3a-ef64-2f59b68822ed"
      },
      "source": [
        "# evaluate the finetuned model before saving it\n",
        "\n",
        "correct = 0\n",
        "total = 0\n",
        "batch_size = 128\n",
        "\n",
        "testset = torchvision.datasets.CIFAR10(\n",
        "    root=CIFAR10_DATASET_PATH, \n",
        "    train=False,\n",
        "    download=True, transform=transforms.ToTensor())\n",
        "\n",
        "testloader = torch.utils.data.DataLoader(testset, batch_size=batch_size,\n",
        "                                          shuffle=False, num_workers=2)\n",
        "\n",
        "# evaluate torch model\n",
        "deep_net.eval()\n",
        "with torch.no_grad():\n",
        "    for images, labels in testloader:\n",
        "        images = images.to(device)\n",
        "        labels = labels.to(device)\n",
        "\n",
        "        decoded = autoencoder(images)\n",
        "        decoded_norm = normalizer_deep_net(decoded)\n",
        "        # decoded_norm = normalizer_deep_net(images)\n",
        "        outputs = deep_net(decoded_norm)\n",
        "\n",
        "        _, predicted = torch.max(outputs.data, 1)\n",
        "        total += labels.size(0)\n",
        "        correct += (predicted == labels).sum().item()\n",
        "\n",
        "print('Accuracy of the network on the 10000 test images: {} %'.format(\n",
        "    100 * correct / total))"
      ],
      "execution_count": null,
      "outputs": [
        {
          "output_type": "stream",
          "text": [
            "Files already downloaded and verified\n",
            "Accuracy of the network on the 10000 test images: 93.41 %\n"
          ],
          "name": "stdout"
        }
      ]
    },
    {
      "cell_type": "code",
      "metadata": {
        "colab": {
          "base_uri": "https://localhost:8080/",
          "height": 35
        },
        "id": "5aRoP6oG0oO4",
        "outputId": "27fb3588-1feb-482b-fb77-d7c923a5766c"
      },
      "source": [
        "from secml.ml.classifiers import CClassifierPyTorch\n",
        "\n",
        "transform = CNormalizerMeanStd(mean=(0.5,0.5,0.5), \n",
        "                              std=(0.5,0.5,0.5), \n",
        "                              with_std=True)\n",
        "\n",
        "\n",
        "# wrap in secml the torch model\n",
        "from secml.ml.classifiers import CClassifierPyTorch\n",
        "clf = CClassifierPyTorch(model=deep_net,\n",
        "                         loss=criterion,\n",
        "                         optimizer=optimizer,\n",
        "                         preprocess = transform,\n",
        "                         pretrained=True,\n",
        "                         epochs=100,\n",
        "                         batch_size=64,\n",
        "                         input_shape=(3, 32, 32),\n",
        "                         random_state=0)\n",
        "\n",
        "clf_secml_path = MODELS_PATH + CIFAR_CLF_FINETUNED_SECML\n",
        "clf.save(path=clf_secml_path)"
      ],
      "execution_count": null,
      "outputs": [
        {
          "output_type": "execute_result",
          "data": {
            "application/vnd.google.colaboratory.intrinsic+json": {
              "type": "string"
            },
            "text/plain": [
              "'/content/drive/MyDrive/Colab_Notebooks/iCubeProject/models/CIFAR10_model_finetuned_secml.gz'"
            ]
          },
          "metadata": {
            "tags": []
          },
          "execution_count": 47
        }
      ]
    },
    {
      "cell_type": "code",
      "metadata": {
        "colab": {
          "base_uri": "https://localhost:8080/"
        },
        "id": "AX6OfiK5kHoO",
        "outputId": "75c88e16-9aa1-4bca-a1e8-b8f2ed8b5f0a"
      },
      "source": [
        "# load and reavaluate only using secml\n",
        "loader = CDataLoaderCIFAR10()\n",
        "tr , ts = loader.load()\n",
        "\n",
        "# Normalize the data\n",
        "tr.X /= 255\n",
        "ts.X /= 255\n",
        "\n",
        "cifar_clf_stacked = stack_models(root=MODELS_PATH,\n",
        "                                 ae_fname=CIFAR_AUTOENCODER_SECML,\n",
        "                                 clf_fname=CIFAR_CLF_FINETUNED_SECML)\n",
        "\n",
        "y_pred = cifar_clf_stacked.predict(ts.X, return_decision_function=False)\n",
        "\n",
        "from secml.ml.peval.metrics import CMetric\n",
        "metric = CMetric.create('accuracy')\n",
        "acc = metric.performance_score(ts.Y, y_pred)\n",
        "\n",
        "print(\"Model Accuracy: {:.2f}%\".format(acc*100))\n",
        "\n",
        "# clf alone reach 93.78%\n",
        "# with the autoencoder before the net it goes down to 87.93%\n",
        "# after finetuning 93.41%"
      ],
      "execution_count": null,
      "outputs": [
        {
          "output_type": "stream",
          "text": [
            "Model Accuracy: 93.41%\n"
          ],
          "name": "stdout"
        }
      ]
    },
    {
      "cell_type": "markdown",
      "metadata": {
        "id": "IKtxPjqX1Nyl"
      },
      "source": [
        "# **Evasion Attack**"
      ]
    },
    {
      "cell_type": "markdown",
      "metadata": {
        "id": "RnaLUZrVk1X-"
      },
      "source": [
        "## **Instantiate the attack**"
      ]
    },
    {
      "cell_type": "code",
      "metadata": {
        "id": "WgwYDVgrnee5"
      },
      "source": [
        "n_images = 100\n",
        "# For simplicity, let's attack a subset of the test set\n",
        "\n",
        "loader = CDataLoaderCIFAR10()\n",
        "tr , ts = loader.load()\n",
        "\n",
        "# Normalize the data\n",
        "tr.X /= 255\n",
        "ts.X /= 255\n",
        "\n",
        "attacked_ds = ts[:n_images, :]\n",
        "#da aummentare\n",
        "\n",
        "noise_type = 'l2'  # Type of perturbation 'l1' or 'l2'\n",
        "dmax = 1.0  # Maximum perturbation\n",
        "lb, ub = 0., 1.  # Bounds of the attack space. Can be set to `None` for unbounded\n",
        "y_target = None  # None if `error-generic` or a class label for `error-specific`\n",
        "\n",
        "# Should be chosen depending on the optimization problem\n",
        "solver_params = {\n",
        "    'eta': 0.5, #learning rate\n",
        "    'eta_min': 2.0, #starting lr\n",
        "    'eta_max': None,\n",
        "    'max_iter': 100,\n",
        "    'eps': 1e-6\n",
        "}\n",
        "\n",
        "model_under_attack = stack_models(root=MODELS_PATH,\n",
        "                   ae_fname=None,\n",
        "                   clf_fname=CIFAR_CLF_SECML)\n",
        "\n",
        "pgd_ls_attack = CAttackEvasionPGDLS(classifier=model_under_attack,\n",
        "                                    double_init=False,\n",
        "                                    distance=noise_type,\n",
        "                                    dmax=dmax,\n",
        "                                    solver_params=solver_params,\n",
        "                                    y_target=y_target)\n",
        "pgd_ls_attack.verbose = 1"
      ],
      "execution_count": null,
      "outputs": []
    },
    {
      "cell_type": "markdown",
      "metadata": {
        "id": "Akr6zolbk6da"
      },
      "source": [
        "## **Run the attack**"
      ]
    },
    {
      "cell_type": "code",
      "metadata": {
        "colab": {
          "base_uri": "https://localhost:8080/"
        },
        "id": "x589KegTkvHQ",
        "outputId": "ab1aa463-c9a7-47bd-e0d8-33d6047f92d0"
      },
      "source": [
        "print(\"Attack started...\")\n",
        "eva_y_pred, _, eva_adv_ds, _ = pgd_ls_attack.run(attacked_ds.X, attacked_ds.Y)\n",
        "print(\"Attack complete!\")"
      ],
      "execution_count": null,
      "outputs": [
        {
          "output_type": "stream",
          "text": [
            "Attack started...\n",
            "2021-04-14 09:15:44,059 - CAttackEvasionPGDLS.0x7f27065b51d0 - INFO - Point: 0/10, f(x):-80.44142150878906\n",
            "2021-04-14 09:15:44,172 - CAttackEvasionPGDLS.0x7f27065b51d0 - INFO - Point: 1/10, f(x):-39.158987045288086\n",
            "2021-04-14 09:15:44,316 - CAttackEvasionPGDLS.0x7f27065b51d0 - INFO - Point: 2/10, f(x):-69.42923736572266\n",
            "2021-04-14 09:15:44,968 - CAttackEvasionPGDLS.0x7f27065b51d0 - INFO - Point: 3/10, f(x):-81.09283828735352\n",
            "2021-04-14 09:15:45,349 - CAttackEvasionPGDLS.0x7f27065b51d0 - INFO - Point: 4/10, f(x):-73.94002151489258\n",
            "2021-04-14 09:15:45,655 - CAttackEvasionPGDLS.0x7f27065b51d0 - INFO - Point: 5/10, f(x):-129.5406723022461\n",
            "2021-04-14 09:15:45,763 - CAttackEvasionPGDLS.0x7f27065b51d0 - INFO - Point: 6/10, f(x):-49.76605796813965\n",
            "2021-04-14 09:15:45,903 - CAttackEvasionPGDLS.0x7f27065b51d0 - INFO - Point: 7/10, f(x):-58.95441818237305\n",
            "2021-04-14 09:15:46,593 - CAttackEvasionPGDLS.0x7f27065b51d0 - INFO - Point: 8/10, f(x):-126.65853881835938\n",
            "2021-04-14 09:15:46,789 - CAttackEvasionPGDLS.0x7f27065b51d0 - INFO - Point: 9/10, f(x):-70.9249267578125\n",
            "Attack complete!\n"
          ],
          "name": "stdout"
        }
      ]
    },
    {
      "cell_type": "markdown",
      "metadata": {
        "id": "qScFu8SLk_pJ"
      },
      "source": [
        "## **Evaluate accuracy before and after the attack on the subset of test set**"
      ]
    },
    {
      "cell_type": "code",
      "metadata": {
        "id": "-MVZYO53Ecjm",
        "colab": {
          "base_uri": "https://localhost:8080/"
        },
        "outputId": "3e31b9d9-ab34-44fe-9bf4-913510bfa28e"
      },
      "source": [
        "# Instantiate the defended model\n",
        "clf = stack_models(root=MODELS_PATH,\n",
        "                        ae_fname=None,\n",
        "                        clf_fname=CIFAR_CLF_SECML)\n",
        "\n",
        "clf_ae = stack_models(root=MODELS_PATH,\n",
        "                            ae_fname=CIFAR_AUTOENCODER_SECML,\n",
        "                            clf_fname=CIFAR_CLF_FINETUNED_SECML)\n",
        "\n",
        "acc = metric.performance_score(\n",
        "    y_true=attacked_ds.Y, y_pred=clf.predict(attacked_ds.X))\n",
        "\n",
        "acc_attack = metric.performance_score(\n",
        "    y_true=attacked_ds.Y, y_pred=eva_y_pred)\n",
        "\n",
        "acc_attack_clean = metric.performance_score(\n",
        "    y_true=attacked_ds.Y, y_pred=clf_ae.predict(eva_adv_ds.X))\n",
        "\n",
        "print(\"Accuracy on reduced test set before attack: {:.2%}\".format(acc))\n",
        "print(\"Accuracy on reduced test set after attack: {:.2%}\".format(acc_attack))\n",
        "print(\"Accuracy on reduced test set after attack and cleaning the images: {:.2%}\".format(acc_attack_clean))"
      ],
      "execution_count": null,
      "outputs": [
        {
          "output_type": "stream",
          "text": [
            "Accuracy on reduced test set before attack: 100.00%\n",
            "Accuracy on reduced test set after attack: 0.00%\n",
            "Accuracy on reduced test set after attack and cleaning the images: 0.00%\n"
          ],
          "name": "stdout"
        }
      ]
    },
    {
      "cell_type": "markdown",
      "metadata": {
        "id": "8-0Lbx2q1kLn"
      },
      "source": [
        "## **Visualize the attacked and the reconstructed images**"
      ]
    },
    {
      "cell_type": "code",
      "metadata": {
        "id": "t1B-zAO308nq"
      },
      "source": [
        "from secml.figure import CFigure\n",
        "import math\n",
        "%matplotlib inline\n",
        "\n",
        "def plot_adv_attacks(attacked_ds, eva_adv_ds, eva_y_pred, autoencoder, k=0, differences = False):\n",
        "\n",
        "    classes = ['airplane',\n",
        "    'automobile',\n",
        "    'bird',\n",
        "    'cat',\n",
        "    'deer',\n",
        "    'dog',\n",
        "    'frog',\n",
        "    'horse',\n",
        "    'ship',\n",
        "    'truck']\n",
        "\n",
        "    n_cols = 3\n",
        "    n_rows = 1\n",
        "    width = 13\n",
        "    height = 5\n",
        "\n",
        "    eva_img = eva_adv_ds.X\n",
        "\n",
        "    start_img_k = attacked_ds.X[k, :]  # original img\n",
        "    eva_img_k = eva_img[k, :]  # perturbed img\n",
        "    reconstr_start_img_k = autoencoder.forward(start_img_k)\n",
        "    reconstr_eva_img_k = autoencoder.forward(eva_img_k)\n",
        "    n_rows = 3\n",
        "    width = 13\n",
        "    height = 10\n",
        "\n",
        "    def diff_normalized(a, b):\n",
        "        diff = a - b\n",
        "        diff -= diff.min()\n",
        "        diff /= diff.max()\n",
        "        return diff\n",
        "\n",
        "    def resh_transp(x):\n",
        "        n = attacked_ds.num_features / 3\n",
        "        n = int(math.sqrt(n))\n",
        "        return x.tondarray().reshape((3, n, n)).transpose((1, 2, 0))\n",
        "\n",
        "    # normalize perturbation for visualization\n",
        "    start_perturb = resh_transp(diff_normalized(start_img_k, eva_img_k))\n",
        "    # normalize perturbation after reconstruction\n",
        "    ae_perturb = resh_transp(diff_normalized(reconstr_start_img_k, reconstr_eva_img_k))\n",
        "    # normalize reconstruction noise of original sample\n",
        "    start_noise_k = resh_transp(diff_normalized(start_img_k, reconstr_start_img_k))\n",
        "    # normalize reconstruction noise of adversarial example\n",
        "    eva_noise_k = resh_transp(diff_normalized(eva_img_k, reconstr_eva_img_k))\n",
        "    # normalize perturbation of reconstruction noise\n",
        "    pert_noise_k = diff_normalized(start_noise_k, eva_noise_k)\n",
        "\n",
        "    start_img_k = resh_transp(start_img_k)\n",
        "    eva_img_k = resh_transp(eva_img_k)\n",
        "    reconstr_start_img_k = resh_transp(reconstr_start_img_k)\n",
        "    reconstr_eva_img_k = resh_transp(reconstr_eva_img_k)\n",
        "\n",
        "    fig = CFigure(width=width, height=height)\n",
        "\n",
        "    titles = [\"Original image x\\n true class : \" + classes[eva_adv_ds.Y[k].item()],\n",
        "            \"Adversarial example x*\\npredicted class : \" + classes[eva_y_pred[k].item()],\n",
        "            \"Amplified perturbation x- x*\",\n",
        "            \"Original image AE(x)\\nin the reconstructed input space\",\n",
        "            \"Adversarial example AE(x*)\\nin the reconstructed input space\",\n",
        "            \"Amplified perturbation AE(x) - AE(x*)\\nin the reconstructed input space\",\n",
        "            \"Reconstruction noise x - AE(x)\\nof original image\",\n",
        "            \"Reconstruction noise x* - AE(x*)\\nof adversarial example\",\n",
        "            \"(x - AE(x)) - (x* - AE(x*)) =\\n(x- x*) - (AE(x) - AE(x*))\"]\n",
        "\n",
        "    imgs = [start_img_k,\n",
        "            eva_img_k,\n",
        "            start_perturb,\n",
        "            reconstr_start_img_k,\n",
        "            reconstr_eva_img_k,\n",
        "            ae_perturb,\n",
        "            start_noise_k,\n",
        "            eva_noise_k,\n",
        "            pert_noise_k]\n",
        "\n",
        "    if differences:\n",
        "        for i, (img, title) in enumerate(list(zip(imgs, titles))):\n",
        "            fig.subplot(n_rows, n_cols, i + 1)\n",
        "            fig.sp.imshow(img)\n",
        "            fig.sp.title(title)\n",
        "            fig.sp.xticks([])\n",
        "            fig.sp.yticks([])\n",
        "    else:  \n",
        "        fig = CFigure(width=15, height=5)\n",
        "        fig.subplot(1, 4, 1)\n",
        "        fig.sp.imshow(start_img_k)\n",
        "        fig.sp.title(\"Original image\\n true class : \" + classes[attack_ds.Y[k].item()])\n",
        "        fig.sp.xticks([])\n",
        "        fig.sp.yticks([])\n",
        "\n",
        "        fig.subplot(1, 4, 2)\n",
        "        fig.sp.imshow(diff_img_k)\n",
        "        fig.sp.title(\"Amplified perturbation\")\n",
        "        fig.sp.xticks([])\n",
        "        fig.sp.yticks([])\n",
        "\n",
        "        fig.subplot(1, 4, 3)\n",
        "        fig.sp.imshow(eva_img_k)\n",
        "        fig.sp.title(\"Adversarial example\\npredicted class : \" + classes[eva_y_pred[k].item()])\n",
        "        fig.sp.xticks([])\n",
        "        fig.sp.yticks([])\n",
        "\n",
        "        temp_k = autoencoder.forward(eva_img[k, :])\n",
        "        y_pred = cifar_clf.predict(temp_k, return_decision_function=False)\n",
        "\n",
        "        fig.subplot(1, 4, 4)\n",
        "        fig.sp.imshow(reconstr_eva_img_k)\n",
        "        fig.sp.title(\"Reconstructed image\\npredicted class : \" + classes[y_pred_clean[k].item()])\n",
        "        fig.sp.xticks([])\n",
        "        fig.sp.yticks([])\n",
        "\n",
        "        fig.show()"
      ],
      "execution_count": null,
      "outputs": []
    },
    {
      "cell_type": "code",
      "metadata": {
        "id": "hCSQdBXD8woL"
      },
      "source": [
        "for k in range(10):\n",
        "    plot_adv_attacks(attacked_ds, eva_adv_ds, eva_y_pred, autoencoder, k=k, differences = False)"
      ],
      "execution_count": null,
      "outputs": []
    },
    {
      "cell_type": "markdown",
      "metadata": {
        "id": "FkQkrCRk2wxV"
      },
      "source": [
        "# **Security Evaluation**"
      ]
    },
    {
      "cell_type": "code",
      "metadata": {
        "id": "iwJscsIxxUzO"
      },
      "source": [
        "def instantiate_attack(ae_fname, clf_fname):\n",
        "    noise_type = 'l2'  # Type of perturbation 'l1' or 'l2'\n",
        "    dmax = 1.0  # Maximum perturbation\n",
        "    lb, ub = 0., 1.  # Bounds of the attack space. Can be set to `None` for unbounded\n",
        "    y_target = None  # None if `error-generic` or a class label for `error-specific`\n",
        "\n",
        "    # Should be chosen depending on the optimization problem\n",
        "    solver_params = {\n",
        "        'eta': 0.5, #learning rate\n",
        "        'eta_min': 2.0, #starting lr\n",
        "        'eta_max': None,\n",
        "        'max_iter': 100,\n",
        "        'eps': 1e-6\n",
        "    }\n",
        "\n",
        "    model_under_attack = stack_models(root=MODELS_PATH,\n",
        "                                        ae_fname=ae_fname,\n",
        "                                        clf_fname=clf_fname)\n",
        "\n",
        "    pgd_ls_attack = CAttackEvasionPGDLS(classifier=model_under_attack,\n",
        "                                        double_init=False,\n",
        "                                        distance=noise_type,\n",
        "                                        dmax=dmax,\n",
        "                                        solver_params=solver_params,\n",
        "                                        y_target=y_target)\n",
        "    # pgd_ls_attack.verbose = 1\n",
        "\n",
        "    return pgd_ls_attack\n",
        "\n",
        "def instantiate_run_seceval(n_samples, seceval_fname, ae_fname=None, clf_fname=CIFAR_CLF_SECML):\n",
        "    loader = CDataLoaderCIFAR10()\n",
        "    _ , ts = loader.load()\n",
        "\n",
        "    # Normalize the data\n",
        "    ts.X /= 255\n",
        "\n",
        "    seceval_ds = ts[:n_samples, :]\n",
        "\n",
        "    e_vals = CArray.arange(start=0, step=0.1, stop=1.1)\n",
        "\n",
        "    attack = instantiate_attack(ae_fname=ae_fname, \n",
        "                                clf_fname=clf_fname)\n",
        "\n",
        "    sec_eval = CSecEval(\n",
        "        attack=attack, param_name='dmax', param_values=e_vals, save_adv_ds=True)\n",
        "    sec_eval.verbose = 1\n",
        "\n",
        "    # Run the security evaluation using the test set\n",
        "    print(\"Running security evaluation...\")\n",
        "    sec_eval.run_sec_eval(seceval_ds)\n",
        "    print(\"Finish security evaluation...\")\n",
        "\n",
        "    sec_eval.sec_eval_data.save(SECEVALS_PATH + seceval_fname)"
      ],
      "execution_count": null,
      "outputs": []
    },
    {
      "cell_type": "code",
      "metadata": {
        "id": "z3ROiVGAqX6m"
      },
      "source": [
        "# Perturbation levels to test\n",
        "n_samples = 100\n",
        "\n",
        "# SECEVAL_DATA_CLF = 'secevaldata_clf.gz'\n",
        "# SECEVAL_DATA_CLF_AE = 'secevaldata_clf_ae.gz'\n",
        "# SECEVAL_DATA_CLF_AE_FTUNED = 'secevaldata_clf_ae_ftuned.gz'\n",
        "\n",
        "instantiate_run_seceval(n_samples, seceval_fname=SECEVAL_DATA_CLF_100)\n",
        "\n",
        "instantiate_run_seceval(n_samples, seceval_fname=SECEVAL_DATA_CLF_AE_100, \n",
        "                        ae_fname=CIFAR_AUTOENCODER_SECML)\n",
        "\n",
        "instantiate_run_seceval(n_samples, seceval_fname=SECEVAL_DATA_CLF_AE_FTUNED_100, \n",
        "                        ae_fname=CIFAR_AUTOENCODER_SECML, \n",
        "                        clf_fname=CIFAR_CLF_FINETUNED_SECML)"
      ],
      "execution_count": null,
      "outputs": []
    },
    {
      "cell_type": "code",
      "metadata": {
        "colab": {
          "base_uri": "https://localhost:8080/",
          "height": 356
        },
        "id": "-gdy7iv2jQl4",
        "outputId": "40933faa-31aa-4bee-b0dd-ac0292649072"
      },
      "source": [
        "from secml.adv.seceval import CSecEvalData\n",
        "%matplotlib inline\n",
        "\n",
        "secevaldata_clf = CSecEvalData.load(SECEVALS_PATH + SECEVAL_DATA_CLF_100)\n",
        "secevaldata_clf_ae = CSecEvalData.load(SECEVALS_PATH + SECEVAL_DATA_CLF_AE_100)\n",
        "secevaldata_clf_ae_ftuned = CSecEvalData.load(SECEVALS_PATH + SECEVAL_DATA_CLF_AE_FTUNED_100)\n",
        "\n",
        "fig = CFigure(height=5, width=5)\n",
        "\n",
        "# Convenience function for plotting the Security Evaluation Curve\n",
        "fig.sp.plot_sec_eval(secevaldata_clf, marker='o', label='before AE', show_average=True)\n",
        "fig.sp.plot_sec_eval(secevaldata_clf_ae, marker='o', label='after AE', show_average=True)\n",
        "fig.sp.plot_sec_eval(secevaldata_clf_ae_ftuned, marker='o', label='after AE + finetuning', show_average=True)\n",
        "\n",
        "fig.show()"
      ],
      "execution_count": 8,
      "outputs": [
        {
          "output_type": "display_data",
          "data": {
            "image/png": "[encoded data removed]",
            "text/plain": [
              "<Figure size 360x360 with 1 Axes>"
            ]
          },
          "metadata": {
            "tags": [],
            "needs_background": "light"
          }
        }
      ]
    },
    {
      "cell_type": "code",
      "metadata": {
        "id": "k_TbxevEokgR"
      },
      "source": [
        "# autoencoder = CCreator().load(path=root + CIFAR_AUTOENCODER_SECML)\n",
        "\n",
        "# print(secevaldata_clf_ae_ftuned.__dict__.keys())\n",
        "\n",
        "# print(len(secevaldata_clf_ae_ftuned.adv_ds))\n",
        "\n",
        "from secml.ml.peval.metrics import CMetric\n",
        "import math\n",
        "\n",
        "# load and reavaluate only using secml\n",
        "loader = CDataLoaderCIFAR10()\n",
        "_ , ts = loader.load()\n",
        "\n",
        "# Normalize the data\n",
        "ts.X /= 255\n",
        "\n",
        "autoencoder = CCreator().load(path=MODELS_PATH + CIFAR_AUTOENCODER_SECML)\n",
        "distances_list = []\n",
        "\n",
        "for inputs in secevaldata_clf_ae_ftuned.adv_ds:\n",
        "    reconstructions = autoencoder.forward(inputs.X)\n",
        "\n",
        "    metric = CMetric.create('mse')\n",
        "\n",
        "    mse = metric.performance_score(inputs.X, score=reconstructions)\n",
        "    distances_list.append(math.sqrt(mse))"
      ],
      "execution_count": 46,
      "outputs": []
    },
    {
      "cell_type": "code",
      "metadata": {
        "colab": {
          "base_uri": "https://localhost:8080/",
          "height": 295
        },
        "id": "Rq5xC6c3X8l4",
        "outputId": "4ea6aaf2-4d42-43d3-ef8b-8735c0dd391f"
      },
      "source": [
        "\n",
        "plt.plot(secevaldata_clf_ae_ftuned.param_values.tolist(), distances_list)\n",
        "plt.title('Reconstruction error wrt the attack power')\n",
        "plt.xlabel('dmax')\n",
        "plt.ylabel('Pixel L2 distance')\n",
        "plt.show()"
      ],
      "execution_count": 49,
      "outputs": [
        {
          "output_type": "display_data",
          "data": {
            "image/png": "[encoded data removed]",
            "text/plain": [
              "<Figure size 432x288 with 1 Axes>"
            ]
          },
          "metadata": {
            "tags": [],
            "needs_background": "light"
          }
        }
      ]
    },
    {
      "cell_type": "code",
      "metadata": {
        "colab": {
          "base_uri": "https://localhost:8080/",
          "height": 197
        },
        "id": "Wp-1UrYqeVw5",
        "outputId": "d95705ff-6db6-4485-a124-ee9c97fd5ad3"
      },
      "source": [
        "import math\n",
        "\n",
        "math.sqrt()"
      ],
      "execution_count": 45,
      "outputs": [
        {
          "output_type": "error",
          "ename": "TypeError",
          "evalue": "ignored",
          "traceback": [
            "\u001b[0;31m---------------------------------------------------------------------------\u001b[0m",
            "\u001b[0;31mTypeError\u001b[0m                                 Traceback (most recent call last)",
            "\u001b[0;32m<ipython-input-45-cc2d177b45bd>\u001b[0m in \u001b[0;36m<module>\u001b[0;34m()\u001b[0m\n\u001b[1;32m      1\u001b[0m \u001b[0;32mimport\u001b[0m \u001b[0mmath\u001b[0m\u001b[0;34m\u001b[0m\u001b[0;34m\u001b[0m\u001b[0m\n\u001b[1;32m      2\u001b[0m \u001b[0;34m\u001b[0m\u001b[0m\n\u001b[0;32m----> 3\u001b[0;31m \u001b[0mmath\u001b[0m\u001b[0;34m.\u001b[0m\u001b[0msqrt\u001b[0m\u001b[0;34m(\u001b[0m\u001b[0;34m[\u001b[0m\u001b[0;36m5\u001b[0m\u001b[0;34m,\u001b[0m\u001b[0;36m5\u001b[0m\u001b[0;34m]\u001b[0m\u001b[0;34m)\u001b[0m\u001b[0;34m\u001b[0m\u001b[0;34m\u001b[0m\u001b[0m\n\u001b[0m",
            "\u001b[0;31mTypeError\u001b[0m: must be real number, not list"
          ]
        }
      ]
    }
  ]
}